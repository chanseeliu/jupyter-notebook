{
 "cells": [
  {
   "cell_type": "code",
   "execution_count": 103,
   "metadata": {},
   "outputs": [],
   "source": [
    "def drift_distance(mass1,mass2,v1,v2,z1,z2,acc,delay):#ns\n",
    "    mass1_1=mass1*1.6605*10**-27   #kg\n",
    "    mass2_2=mass2*1.6605*10**-27\n",
    "    v_in1=(2*z1*acc*1.602*10**-19/mass1_1)**(1./2)\n",
    "    time1=1/(v_in1+v1)\n",
    "    time2=1/(v_in1+v2)\n",
    "    #delay=delay*10**-9\n",
    "    dis_delay1=(v_in1+v1)*delay*10**-9\n",
    "    dis_delay2=(v_in1+v2)*delay*10**-9\n",
    "    #V and m\n",
    "    Vol1=2000-(dis_delay1*(2000/0.1))\n",
    "    v_final1=(2*z1*Vol1*1.602*10**-19/mass1_1)**(1./2)\n",
    "    Vol2=2000-(dis_delay2*(2000/0.1))\n",
    "    v_final2=(2*z1*Vol2*1.602*10**-19/mass2_2)**(1./2)\n",
    "    drift_time1=1/v_final1\n",
    "    drift_time2=1/v_final2\n",
    "    difference=drift_time1-drift_time2\n",
    "    differe_final=(abs(time1-time2)-difference)*10**9 #ns\n",
    "    print abs(differe_final)"
   ]
  },
  {
   "cell_type": "code",
   "execution_count": 104,
   "metadata": {},
   "outputs": [
    {
     "name": "stdout",
     "output_type": "stream",
     "text": [
      "18362.1764849\n",
      "None\n"
     ]
    }
   ],
   "source": [
    "print drift_distance(148,148,100,110,1,1,2000,1950)\n"
   ]
  }
 ],
 "metadata": {
  "kernelspec": {
   "display_name": "Python 2",
   "language": "python",
   "name": "python2"
  },
  "language_info": {
   "codemirror_mode": {
    "name": "ipython",
    "version": 2
   },
   "file_extension": ".py",
   "mimetype": "text/x-python",
   "name": "python",
   "nbconvert_exporter": "python",
   "pygments_lexer": "ipython2",
   "version": "2.7.13"
  }
 },
 "nbformat": 4,
 "nbformat_minor": 2
}
